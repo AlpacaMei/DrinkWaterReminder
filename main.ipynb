{
 "cells": [
  {
   "cell_type": "code",
   "execution_count": null,
   "metadata": {},
   "outputs": [],
   "source": [
    "import os\n",
    "import sys\n",
    "import time\n",
    "import threading\n",
    "from tkinter import Tk, Label, Entry, Button, StringVar\n",
    "from winotify import Notification, audio"
   ]
  },
  {
   "cell_type": "code",
   "execution_count": null,
   "metadata": {},
   "outputs": [],
   "source": [
    "def resource_path(relative_path):\n",
    "    \"\"\"打包後讀取資源用\"\"\"\n",
    "    try:\n",
    "        base_path = sys._MEIPASS\n",
    "    except Exception:\n",
    "        base_path = os.path.abspath(\".\")\n",
    "    return os.path.join(base_path, relative_path)\n"
   ]
  },
  {
   "cell_type": "code",
   "execution_count": null,
   "metadata": {},
   "outputs": [],
   "source": [
    "ICON_PATH = resource_path(\"water_icon.png\")"
   ]
  },
  {
   "cell_type": "code",
   "execution_count": null,
   "metadata": {},
   "outputs": [],
   "source": [
    "def warm_up_notification():\n",
    "    \"\"\"預熱通知系統\"\"\"\n",
    "    try:\n",
    "        toast = Notification(\n",
    "            app_id=\"喝水提醒小幫手\",\n",
    "            title=\"初始化通知中...\",\n",
    "            msg=\"稍後將開始提醒您喝水！\",\n",
    "            icon=ICON_PATH\n",
    "        )\n",
    "        toast.set_audio(audio.Default, loop=False)\n",
    "        toast.show()\n",
    "    except:\n",
    "        pass"
   ]
  },
  {
   "cell_type": "code",
   "execution_count": null,
   "metadata": {},
   "outputs": [],
   "source": [
    "class WaterReminderApp:\n",
    "    def __init__(self, root):\n",
    "        self.root = root\n",
    "        self.root.title(\"喝水提醒小幫手\")\n",
    "        self.root.geometry(\"300x250\")\n",
    "\n",
    "        self.interval_minutes = StringVar(value=\"15\")\n",
    "        self.max_reminders = StringVar(value=\"40\")\n",
    "        self.status = StringVar(value=\"尚未啟動\")\n",
    "\n",
    "        Label(root, text=\"請輸入提醒間隔（分鐘）:\").pack(pady=5)\n",
    "        Entry(root, textvariable=self.interval_minutes).pack()\n",
    "\n",
    "        Label(root, text=\"請輸入提醒次數:\").pack(pady=5)\n",
    "        Entry(root, textvariable=self.max_reminders).pack()\n",
    "\n",
    "        Button(root, text=\"啟動提醒\", command=self.start_reminder).pack(pady=10)\n",
    "        Button(root, text=\"停止提醒\", command=self.stop_reminder).pack(pady=5)\n",
    "        Label(root, textvariable=self.status, fg=\"blue\").pack(pady=10)\n",
    "\n",
    "        self.running = False\n",
    "        warm_up_notification()\n",
    "\n",
    "    def start_reminder(self):\n",
    "        if not self.running:\n",
    "            self.running = True\n",
    "            self.status.set(f\"提醒中...（每 {self.interval_minutes.get()} 分鐘，共 {self.max_reminders.get()} 次）\")\n",
    "            threading.Thread(target=self.remind_loop, daemon=True).start()\n",
    "\n",
    "    def stop_reminder(self):\n",
    "            self.running = False\n",
    "            self.status.set(\"提醒已停止。\")\n",
    "\n",
    "    def remind_loop(self):\n",
    "        try:\n",
    "            interval = int(self.interval_minutes.get()) * 60\n",
    "            max_times = int(self.max_reminders.get())\n",
    "        except ValueError:\n",
    "            self.status.set(\"請輸入正確的數字！\")\n",
    "            self.running = False\n",
    "            return\n",
    "\n",
    "        for i in range(max_times):\n",
    "            if not self.running:\n",
    "                break\n",
    "\n",
    "            toast = Notification(\n",
    "                app_id=\"喝水提醒小幫手\",\n",
    "                title=\"💧 喝水時間到！\",\n",
    "                msg=f\"這是第 {i+1} 次提醒，記得補充水分！\",\n",
    "                icon=ICON_PATH\n",
    "            )\n",
    "            toast.set_audio(audio.Default, loop=False)\n",
    "            toast.show()\n",
    "\n",
    "            time.sleep(interval)\n",
    "\n",
    "        self.status.set(f\"提醒結束，共提醒 {max_times} 次。\")\n",
    "        self.running = False"
   ]
  },
  {
   "cell_type": "code",
   "execution_count": null,
   "metadata": {},
   "outputs": [],
   "source": [
    "if __name__ == \"__main__\":\n",
    "    root = Tk()\n",
    "    app = WaterReminderApp(root)\n",
    "    root.mainloop()"
   ]
  }
 ],
 "metadata": {
  "kernelspec": {
   "display_name": "DWR",
   "language": "python",
   "name": "python3"
  },
  "language_info": {
   "name": "python",
   "version": "3.11.11"
  }
 },
 "nbformat": 4,
 "nbformat_minor": 2
}
