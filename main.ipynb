{
 "cells": [
  {
   "cell_type": "code",
   "execution_count": 1,
   "metadata": {},
   "outputs": [],
   "source": [
    "import time\n",
    "import threading\n",
    "from tkinter import Tk, Label, Entry, Button, StringVar\n",
    "from win11toast import toast"
   ]
  },
  {
   "cell_type": "code",
   "execution_count": 2,
   "metadata": {},
   "outputs": [],
   "source": [
    "class WaterReminderApp:\n",
    "    def __init__(self, root):\n",
    "        self.root = root\n",
    "        self.root.title(\"喝水提醒小幫手\")\n",
    "        self.root.geometry(\"300x250\")\n",
    "\n",
    "        self.interval_minutes = StringVar(value=\"60\")\n",
    "        self.max_reminders = StringVar(value=\"5\")\n",
    "        self.status = StringVar(value=\"尚未啟動\")\n",
    "\n",
    "        Label(root, text=\"請輸入提醒間隔（分鐘）:\").pack(pady=5)\n",
    "        Entry(root, textvariable=self.interval_minutes).pack()\n",
    "\n",
    "        Label(root, text=\"請輸入提醒次數:\").pack(pady=5)\n",
    "        Entry(root, textvariable=self.max_reminders).pack()\n",
    "\n",
    "        Button(root, text=\"啟動提醒\", command=self.start_reminder).pack(pady=10)\n",
    "        Label(root, textvariable=self.status, fg=\"blue\").pack(pady=10)\n",
    "\n",
    "        self.running = False\n",
    "\n",
    "    def start_reminder(self):\n",
    "        if not self.running:\n",
    "            self.running = True\n",
    "            self.status.set(\"提醒中...（每 {} 分鐘，共 {} 次）\".format(\n",
    "                self.interval_minutes.get(), self.max_reminders.get()))\n",
    "            threading.Thread(target=self.remind_loop, daemon=True).start()\n",
    "\n",
    "    def remind_loop(self):\n",
    "        try:\n",
    "            interval = int(self.interval_minutes.get()) * 60\n",
    "            max_times = int(self.max_reminders.get())\n",
    "        except ValueError:\n",
    "            self.status.set(\"請輸入正確的數字！\")\n",
    "            self.running = False\n",
    "            return\n",
    "\n",
    "        for i in range(max_times):\n",
    "            if not self.running:\n",
    "                break\n",
    "            toast(\"💧 喝水時間到！\", f\"這是第 {i+1} 次提醒，記得補充水分！\")\n",
    "            time.sleep(interval)\n",
    "\n",
    "        self.status.set(f\"提醒結束，共提醒 {max_times} 次。\")\n",
    "        self.running = False"
   ]
  },
  {
   "cell_type": "code",
   "execution_count": 3,
   "metadata": {},
   "outputs": [],
   "source": [
    "if __name__ == \"__main__\":\n",
    "    root = Tk()\n",
    "    app = WaterReminderApp(root)\n",
    "    root.mainloop()"
   ]
  }
 ],
 "metadata": {
  "kernelspec": {
   "display_name": "DWR",
   "language": "python",
   "name": "python3"
  },
  "language_info": {
   "codemirror_mode": {
    "name": "ipython",
    "version": 3
   },
   "file_extension": ".py",
   "mimetype": "text/x-python",
   "name": "python",
   "nbconvert_exporter": "python",
   "pygments_lexer": "ipython3",
   "version": "3.11.11"
  }
 },
 "nbformat": 4,
 "nbformat_minor": 2
}
