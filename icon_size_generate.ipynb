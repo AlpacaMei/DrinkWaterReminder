{
 "cells": [
  {
   "cell_type": "code",
   "execution_count": null,
   "metadata": {},
   "outputs": [],
   "source": [
    "from PIL import Image\n",
    "\n",
    "# 載入你的大圖像（假設是256x256）\n",
    "image_path = \"your_image.png\"  # 請更改為你的圖片檔案路徑\n",
    "ico_path = \"water_icon_with_sizes.ico\"\n",
    "\n",
    "# 讀取圖片\n",
    "img = Image.open(image_path)\n",
    "\n",
    "# 轉換為不同尺寸並儲存為 ICO 檔案\n",
    "img.save(ico_path, format='ICO', sizes=[(16, 16), (32, 32), (48, 48), (64, 64), (128, 128), (256, 256)])"
   ]
  }
 ],
 "metadata": {
  "kernelspec": {
   "display_name": "test",
   "language": "python",
   "name": "python3"
  },
  "language_info": {
   "name": "python",
   "version": "3.11.11"
  }
 },
 "nbformat": 4,
 "nbformat_minor": 2
}
